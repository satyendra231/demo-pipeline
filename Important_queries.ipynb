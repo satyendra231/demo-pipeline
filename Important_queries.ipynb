{
 "cells": [
  {
   "cell_type": "code",
   "execution_count": 1,
   "metadata": {},
   "outputs": [
    {
     "name": "stdout",
     "output_type": "stream",
     "text": [
      "hello worls\n"
     ]
    }
   ],
   "source": [
    "print(\"hello worls\")"
   ]
  },
  {
   "cell_type": "markdown",
   "metadata": {},
   "source": [
    "D:\\Full Stack Data Science\\ML\\Demo-Pipeline>C:\\ProgramData\\anaconda3\\Scripts\\activate\n",
    "D:\\Full Stack Data Science\\ML\\Demo-Pipeline>conda activate base\n",
    "D:\\Full Stack Data Science\\ML\\Demo-Pipeline>conda create -p asd python=3.11  \n",
    "D:\\Full Stack Data Science\\ML\\Demo-Pipeline>conda deactivate\n",
    "D:\\Full Stack Data Science\\ML\\Demo-Pipeline>python -m venv qwerty\n",
    "D:\\Full Stack Data Science\\ML\\Demo-Pipeline>.\\qwerty\\Scripts\\activate \n",
    "D:\\Full Stack Data Science\\ML\\Demo-Pipeline>cd ../../  \n",
    "D:\\Full Stack Data Science\\ML\\Demo-Pipeline>cd ..\n",
    "D:\\Full Stack Data Science\\ML\\Demo-Pipeline>cd \"Full Stack Data Science\"\n",
    "(base) D:\\Full Stack Data Science\\ML\\Demo-Pipeline>conda create -p asd python=3.11  \n",
    "D:\\Full Stack Data Science\\ML\\Demo-Pipeline>conda activate \"D:\\Full Stack Data Science\\ML\\Demo-Pipeline\\venv\"  \n"
   ]
  },
  {
   "cell_type": "markdown",
   "metadata": {},
   "source": [
    "git remote -v\n",
    "git init\n",
    "git add . = To add all the files into git \n",
    "git reset = To undo a command \n",
    "gitignore = use to not upload that file into git \n",
    "git commit -m \"first commit\" "
   ]
  },
  {
   "cell_type": "code",
   "execution_count": null,
   "metadata": {},
   "outputs": [],
   "source": []
  }
 ],
 "metadata": {
  "kernelspec": {
   "display_name": "Python 3",
   "language": "python",
   "name": "python3"
  },
  "language_info": {
   "codemirror_mode": {
    "name": "ipython",
    "version": 3
   },
   "file_extension": ".py",
   "mimetype": "text/x-python",
   "name": "python",
   "nbconvert_exporter": "python",
   "pygments_lexer": "ipython3",
   "version": "3.11.5"
  }
 },
 "nbformat": 4,
 "nbformat_minor": 2
}
